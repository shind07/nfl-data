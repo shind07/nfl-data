{
 "cells": [
  {
   "cell_type": "code",
   "execution_count": 5,
   "metadata": {},
   "outputs": [
    {
     "name": "stderr",
     "output_type": "stream",
     "text": [
      "<ipython-input-5-0fae6ac44b61>:12: FutureWarning: Passing a negative integer is deprecated in version 1.0 and will not be supported in future version. Instead, use None to not limit the column width.\n",
      "  pd.set_option('display.max_colwidth', -1)\n"
     ]
    }
   ],
   "source": [
    "import os\n",
    "import sys\n",
    "import logging\n",
    "\n",
    "import numpy as np\n",
    "import pandas as pd\n",
    "\n",
    "sys.path.insert(0, '..')\n",
    "\n",
    "from app import db\n",
    "\n",
    "pd.set_option('display.max_colwidth', -1)\n",
    "pd.set_option('display.max_columns', 200)\n",
    "pd.set_option('display.max_rows', 50)\n"
   ]
  },
  {
   "cell_type": "code",
   "execution_count": 6,
   "metadata": {},
   "outputs": [],
   "source": [
    "db_conn = db.get_db_conn()"
   ]
  },
  {
   "cell_type": "code",
   "execution_count": 7,
   "metadata": {},
   "outputs": [],
   "source": [
    "def _extract(db_conn) -> pd.DataFrame:\n",
    "    \"\"\"Get the upstream tables.\"\"\"\n",
    "    logging.info(\"Extracting play by play data...\")\n",
    "    query = \"\"\"SELECT * FROM play_by_play\"\"\"\n",
    "    df_play_by_play = pd.read_sql(query, db_conn)\n",
    "    logging.info(f\"Extracted {len(df_play_by_play)} rows of play by play data.\")\n",
    "\n",
    "    logging.info(\"Extracting roster data...\")\n",
    "    query = \"\"\"SELECT * FROM roster\"\"\"\n",
    "    df_roster = pd.read_sql(query, db_conn)\n",
    "    logging.info(f\"Extracted {len(df_roster)} rows of roster data.\")\n",
    "\n",
    "    return df_play_by_play, df_roster"
   ]
  },
  {
   "cell_type": "code",
   "execution_count": 8,
   "metadata": {},
   "outputs": [],
   "source": [
    "df_play_by_play, df_roster = _extract(db_conn)"
   ]
  },
  {
   "cell_type": "code",
   "execution_count": 9,
   "metadata": {},
   "outputs": [
    {
     "data": {
      "text/plain": [
       "0       0 days 15:00:00\n",
       "1       0 days 15:00:00\n",
       "2       0 days 15:00:00\n",
       "3       0 days 14:42:00\n",
       "4       0 days 13:59:00\n",
       "              ...      \n",
       "48325   0 days 01:32:00\n",
       "48326   0 days 00:48:00\n",
       "48327   0 days 00:48:00\n",
       "48328   0 days 00:02:00\n",
       "48329   0 days 00:02:00\n",
       "Name: time, Length: 48330, dtype: timedelta64[ns]"
      ]
     },
     "execution_count": 9,
     "metadata": {},
     "output_type": "execute_result"
    }
   ],
   "source": [
    "\n",
    "df_play_by_play['time']"
   ]
  },
  {
   "cell_type": "code",
   "execution_count": 11,
   "metadata": {},
   "outputs": [
    {
     "data": {
      "text/plain": [
       "0        15:00\n",
       "1        15:00\n",
       "2        15:00\n",
       "3        14:42\n",
       "4        13:59\n",
       "         ...  \n",
       "48325    00:48\n",
       "48326    00:48\n",
       "48327    00:02\n",
       "48328    00:02\n",
       "48329    00:00\n",
       "Name: time, Length: 48330, dtype: object"
      ]
     },
     "execution_count": 11,
     "metadata": {},
     "output_type": "execute_result"
    }
   ],
   "source": [
    "REMOTE_PATH_TEMPLATE = 'https://github.com/guga31bb/nflfastR-data/blob/master/data/play_by_play_{year}.csv.gz?raw=True'\n",
    "\n",
    "def _extract(path: str) -> pd.DataFrame:\n",
    "    \"\"\"Download CSV from remote path.\"\"\"\n",
    "    logging.info(f\"Downloading remote play by play CSV from {path}...\")\n",
    "    return pd.read_csv(\n",
    "        path,\n",
    "        compression='gzip' if \"csv.gz\" in path else \"infer\",\n",
    "        low_memory=False\n",
    "    )\n",
    "year = 2020\n",
    "df = _extract(REMOTE_PATH_TEMPLATE.format(year=year))\n",
    "df['time']"
   ]
  },
  {
   "cell_type": "code",
   "execution_count": null,
   "metadata": {},
   "outputs": [],
   "source": []
  }
 ],
 "metadata": {
  "kernelspec": {
   "display_name": "Python 3",
   "language": "python",
   "name": "python3"
  },
  "language_info": {
   "codemirror_mode": {
    "name": "ipython",
    "version": 3
   },
   "file_extension": ".py",
   "mimetype": "text/x-python",
   "name": "python",
   "nbconvert_exporter": "python",
   "pygments_lexer": "ipython3",
   "version": "3.8.6"
  }
 },
 "nbformat": 4,
 "nbformat_minor": 4
}
